{
 "cells": [
  {
   "cell_type": "markdown",
   "id": "59c92b78-0074-4fef-ae65-bfb6d73b6e61",
   "metadata": {},
   "source": [
    "# Report with IA"
   ]
  },
  {
   "cell_type": "markdown",
   "id": "90d51c35-7f4a-4bf9-a07a-8846b24a81bb",
   "metadata": {},
   "source": [
    "**Descrição**\n",
    "* O objetivo do projeto foi criar um modelo de regressão com séries temporais, treinado com o intuito de prever o faturamento diário de uma cafeteria ao longo de um mês;\n",
    "* O objetivo do deploy é criar um report com IA contendo as previsões do modelo. Dessa forma, o cliente poderia acompanhar bem as métricas e variações apresentadas de forma automatizada\n",
    "\n",
    "**Etapas:**\n",
    "\n",
    "* Prompt para a geração do relatório\n",
    "* Configurações do relatório"
   ]
  },
  {
   "cell_type": "markdown",
   "id": "6bb8f5ea-9931-419e-9b36-7297212d78fe",
   "metadata": {},
   "source": [
    "# 1. Bibliotecas e importação dos dados"
   ]
  },
  {
   "cell_type": "code",
   "execution_count": 1,
   "id": "e9d6f77e-c0c9-437a-aefd-c0289fd08d38",
   "metadata": {},
   "outputs": [],
   "source": [
    "# Gerais\n",
    "\n",
    "import pandas as pd\n",
    "import numpy as np\n",
    "import matplotlib.pyplot as plt\n",
    "import openai\n",
    "from dotenv import load_dotenv\n",
    "import os\n",
    "import re\n",
    "\n",
    "# Geração de PDF com o ReportLab\n",
    "\n",
    "# Define o tamanho da página:\n",
    "from reportlab.lib.pagesizes import letter\n",
    "# Define os estilos de texto:\n",
    "from reportlab.lib.styles import getSampleStyleSheet, ParagraphStyle\n",
    "# Para a criação de documentos e elementos como parágrafos, tabelas e imagens:\n",
    "from reportlab.platypus import SimpleDocTemplate, Paragraph, Spacer, Table, TableStyle, Image\n",
    "# Para unidades de medida:\n",
    "from reportlab.lib.units import inch\n",
    "# Para usar cores:\n",
    "from reportlab.lib import colors\n",
    "\n",
    "# Bibliotecas para trabalhar com markdown e conversão (ex: HTML)\n",
    "\n",
    "import markdown2"
   ]
  },
  {
   "cell_type": "code",
   "execution_count": 2,
   "id": "0781a1cb-442b-4916-b3a7-24e20cea9611",
   "metadata": {},
   "outputs": [],
   "source": [
    "# Importação\n",
    "\n",
    "df = pd.read_csv('data/report_data.csv',index_col=0)"
   ]
  },
  {
   "cell_type": "code",
   "execution_count": 3,
   "id": "f6be4b2f-7dd8-4e90-9c0f-a573e69ca95d",
   "metadata": {},
   "outputs": [
    {
     "data": {
      "text/html": [
       "<div>\n",
       "<style scoped>\n",
       "    .dataframe tbody tr th:only-of-type {\n",
       "        vertical-align: middle;\n",
       "    }\n",
       "\n",
       "    .dataframe tbody tr th {\n",
       "        vertical-align: top;\n",
       "    }\n",
       "\n",
       "    .dataframe thead th {\n",
       "        text-align: right;\n",
       "    }\n",
       "</style>\n",
       "<table border=\"1\" class=\"dataframe\">\n",
       "  <thead>\n",
       "    <tr style=\"text-align: right;\">\n",
       "      <th></th>\n",
       "      <th>ano-mes-dia</th>\n",
       "      <th>faturamento</th>\n",
       "    </tr>\n",
       "  </thead>\n",
       "  <tbody>\n",
       "    <tr>\n",
       "      <th>0</th>\n",
       "      <td>2023-06-01</td>\n",
       "      <td>3501.3345</td>\n",
       "    </tr>\n",
       "    <tr>\n",
       "      <th>1</th>\n",
       "      <td>2023-06-02</td>\n",
       "      <td>3687.8699</td>\n",
       "    </tr>\n",
       "    <tr>\n",
       "      <th>2</th>\n",
       "      <td>2023-06-03</td>\n",
       "      <td>3512.5303</td>\n",
       "    </tr>\n",
       "    <tr>\n",
       "      <th>3</th>\n",
       "      <td>2023-06-04</td>\n",
       "      <td>3627.7790</td>\n",
       "    </tr>\n",
       "    <tr>\n",
       "      <th>4</th>\n",
       "      <td>2023-06-05</td>\n",
       "      <td>3570.6147</td>\n",
       "    </tr>\n",
       "  </tbody>\n",
       "</table>\n",
       "</div>"
      ],
      "text/plain": [
       "  ano-mes-dia  faturamento\n",
       "0  2023-06-01    3501.3345\n",
       "1  2023-06-02    3687.8699\n",
       "2  2023-06-03    3512.5303\n",
       "3  2023-06-04    3627.7790\n",
       "4  2023-06-05    3570.6147"
      ]
     },
     "execution_count": 3,
     "metadata": {},
     "output_type": "execute_result"
    }
   ],
   "source": [
    "df.head()"
   ]
  },
  {
   "cell_type": "code",
   "execution_count": 4,
   "id": "64e3208a-3b16-4266-96f3-038b9943bfcb",
   "metadata": {},
   "outputs": [
    {
     "data": {
      "text/html": [
       "<div>\n",
       "<style scoped>\n",
       "    .dataframe tbody tr th:only-of-type {\n",
       "        vertical-align: middle;\n",
       "    }\n",
       "\n",
       "    .dataframe tbody tr th {\n",
       "        vertical-align: top;\n",
       "    }\n",
       "\n",
       "    .dataframe thead th {\n",
       "        text-align: right;\n",
       "    }\n",
       "</style>\n",
       "<table border=\"1\" class=\"dataframe\">\n",
       "  <thead>\n",
       "    <tr style=\"text-align: right;\">\n",
       "      <th></th>\n",
       "      <th>describes</th>\n",
       "      <th>faturamento</th>\n",
       "    </tr>\n",
       "  </thead>\n",
       "  <tbody>\n",
       "    <tr>\n",
       "      <th>0</th>\n",
       "      <td>mean</td>\n",
       "      <td>4075.03</td>\n",
       "    </tr>\n",
       "    <tr>\n",
       "      <th>1</th>\n",
       "      <td>std</td>\n",
       "      <td>374.38</td>\n",
       "    </tr>\n",
       "    <tr>\n",
       "      <th>2</th>\n",
       "      <td>min</td>\n",
       "      <td>3501.33</td>\n",
       "    </tr>\n",
       "    <tr>\n",
       "      <th>3</th>\n",
       "      <td>max</td>\n",
       "      <td>4664.56</td>\n",
       "    </tr>\n",
       "    <tr>\n",
       "      <th>4</th>\n",
       "      <td>total</td>\n",
       "      <td>122250.95</td>\n",
       "    </tr>\n",
       "  </tbody>\n",
       "</table>\n",
       "</div>"
      ],
      "text/plain": [
       "  describes  faturamento\n",
       "0      mean      4075.03\n",
       "1       std       374.38\n",
       "2       min      3501.33\n",
       "3       max      4664.56\n",
       "4     total    122250.95"
      ]
     },
     "execution_count": 4,
     "metadata": {},
     "output_type": "execute_result"
    }
   ],
   "source": [
    "# Parâmetros avaliados na seção de resumos financeiros\n",
    "\n",
    "total_faturamento = np.round(df['faturamento'].sum(),2)\n",
    "describe = np.round(df.describe(),2).reset_index()\n",
    "describe.rename(columns={'index': 'describes'},inplace=True)\n",
    "nova_linha = pd.DataFrame([{'describes': 'total', 'faturamento': total_faturamento}])\n",
    "describe = pd.concat([describe, nova_linha], ignore_index=True)\n",
    "describe = describe[~describe['describes'].isin(['count','25%', '50%', '75%'])].reset_index(drop=True)\n",
    "describe"
   ]
  },
  {
   "cell_type": "markdown",
   "id": "516128d4-b589-4798-ba3a-21b1200a8888",
   "metadata": {},
   "source": [
    "# 2. Acessando a API da OpenAI"
   ]
  },
  {
   "cell_type": "code",
   "execution_count": 5,
   "id": "4a0b9720-9c7c-4cb5-9643-6e47058636e3",
   "metadata": {},
   "outputs": [],
   "source": [
    "# Acessando API\n",
    "\n",
    "load_dotenv()\n",
    "secret_key = os.getenv(\"OPEN_API_KEY\")"
   ]
  },
  {
   "cell_type": "code",
   "execution_count": 6,
   "id": "f21d2a9e-2086-4639-b2d0-d752338f6649",
   "metadata": {},
   "outputs": [],
   "source": [
    "# Instanciando\n",
    "\n",
    "client = openai.OpenAI(api_key=secret_key)"
   ]
  },
  {
   "cell_type": "markdown",
   "id": "0e71da8f-18da-435b-9935-541007c2f54a",
   "metadata": {},
   "source": [
    "# 3. Prompt para a geração do relatório com o GPT-4"
   ]
  },
  {
   "cell_type": "code",
   "execution_count": 7,
   "id": "b15c70f1-d7cd-4218-8e73-1841bfbc7935",
   "metadata": {},
   "outputs": [
    {
     "data": {
      "text/plain": [
       "'ano-mes-dia  faturamento\\n 2023-06-01    3501.3345\\n 2023-06-02    3687.8699\\n 2023-06-03    3512.5303\\n 2023-06-04    3627.7790\\n 2023-06-05    3570.6147\\n 2023-06-06    3772.3198\\n 2023-06-07    3763.6150\\n 2023-06-08    3899.9277\\n 2023-06-09    3988.8083\\n 2023-06-10    4267.1177\\n 2023-06-11    4279.8730\\n 2023-06-12    4398.9785\\n 2023-06-13    4417.1170\\n 2023-06-14    4552.8600\\n 2023-06-15    4664.5620\\n 2023-06-16    4612.7760\\n 2023-06-17    4499.0537\\n 2023-06-18    4401.6606\\n 2023-06-19    4496.7974\\n 2023-06-20    4496.4673\\n 2023-06-21    4352.6760\\n 2023-06-22    4234.0557\\n 2023-06-23    4042.9932\\n 2023-06-24    4064.5315\\n 2023-06-25    4172.6597\\n 2023-06-26    4100.8960\\n 2023-06-27    4026.1042\\n 2023-06-28    3753.1160\\n 2023-06-29    3528.1300\\n 2023-06-30    3563.7275'"
      ]
     },
     "execution_count": 7,
     "metadata": {},
     "output_type": "execute_result"
    }
   ],
   "source": [
    "# Passando o dataframe com as previsões para texto\n",
    "\n",
    "data_text = df.to_string(index=False)\n",
    "data_text"
   ]
  },
  {
   "cell_type": "code",
   "execution_count": 8,
   "id": "47a807f7-f742-4360-a19f-1c6813f3cfae",
   "metadata": {},
   "outputs": [
    {
     "data": {
      "text/plain": [
       "'  describes  faturamento\\n0      mean      4075.03\\n1       std       374.38\\n2       min      3501.33\\n3       max      4664.56\\n4     total    122250.95'"
      ]
     },
     "execution_count": 8,
     "metadata": {},
     "output_type": "execute_result"
    }
   ],
   "source": [
    "# Passando o dataframe com as estatísticas descritivas para texto\n",
    "\n",
    "data_describe_text = describe.to_string()\n",
    "data_describe_text"
   ]
  },
  {
   "cell_type": "code",
   "execution_count": 9,
   "id": "a66da3e6-70db-4ee2-95be-92cf728c6b9f",
   "metadata": {},
   "outputs": [],
   "source": [
    "# Prompt gerado para o GPT-4\n",
    "\n",
    "prompt = f\"\"\"\n",
    "Você é um analista de dados eficiente e preciso. Baseado nas seguintes previsões de faturamento diário de uma cafeteria,\n",
    "gere um relatório curto e conciso sumarizando as principais tendências, pontos notáveis e potenciais insights:\n",
    "\n",
    "{data_text}\n",
    "\n",
    "{data_describe_text}\n",
    "\n",
    "Seu relatório deve conter as seções:\n",
    "1- Tendência geral: uma análise curta da tendência geral.\n",
    "2- Visão de negócio: possíveis implicações de negócio e estratégias que podem ser adotadas.\n",
    "3- Resumo financeiro: um resumo financeiro sucinto, destacando o faturamento total do mês, a média diária, e as maiores oscilações (maior e menor faturamento). Separar em tópicos dentro da seção 4. (Usar * para o markdown converter)\n",
    "Use esses dados como referência para comentar qualquer dado numérico no relatório.\n",
    "4- Considerações finais: um resumo dos principais pontos e conclusões da análise.\n",
    "\n",
    "Configurações do texto:\n",
    "1- Entregue uma análise concisa, porém informativa.\n",
    "2- A análise deve ser devolvida em markdown.\n",
    "3- Deixar apenas as iniciais de uma frase maiúscula em todo o texto, ex:\"Tendência geral\" e não \"Tendência Geral\".\n",
    "4- Não pular tantas linhas \"\\n\\n\" dentro de uma mesma seção, apenas entre diferentes seções.\n",
    "5- Para fins de clareza, organize o relatório com as seções bem definidas, com títulos destacados **(em negrito)**.\n",
    "6- Nos bullet points do resumo financeiro, destaque os títulos em negrito.\n",
    "7- O restante do conteúdo pode seguir em texto simples.\n",
    "8- Use o formato Markdown para listas com marcadores (como “*” para os itens de lista) e subtítulos em negrito, para facilitar a leitura e organização do conteúdo.\n",
    "\n",
    "\"\"\""
   ]
  },
  {
   "cell_type": "code",
   "execution_count": 10,
   "id": "52c9d6b5-401f-4378-a0ce-036b36a768bc",
   "metadata": {},
   "outputs": [],
   "source": [
    "completion = client.chat.completions.create(\n",
    "  model=\"gpt-4o-mini\", store=True, temperature=0, max_tokens=2000,\n",
    "  messages=[{\"role\": \"system\", \"content\": \"Você é um analista de dados eficiente.\"},\n",
    "              {\"role\": \"user\", \"content\": prompt}]\n",
    ")"
   ]
  },
  {
   "cell_type": "code",
   "execution_count": 11,
   "id": "b2aedbf0-ba5c-436d-bb24-c86edc9346dc",
   "metadata": {},
   "outputs": [
    {
     "data": {
      "text/plain": [
       "'**Tendência geral**  \\nA análise do faturamento diário da cafeteria durante o mês de junho de 2023 revela uma tendência de crescimento consistente, especialmente nas duas primeiras semanas. O faturamento aumentou de R$ 3.501,33 no dia 1º para um pico de R$ 4.664,56 no dia 15, antes de apresentar uma leve queda nas semanas seguintes. A variação diária mostra um padrão de flutuação, mas a tendência geral é de alta.\\n\\n**Visão de negócio**  \\nCom base nas tendências observadas, a cafeteria pode considerar as seguintes estratégias:  \\n* Implementar promoções ou eventos especiais durante os dias de maior movimento para maximizar o faturamento.  \\n* Analisar os produtos mais vendidos durante os dias de pico e ajustar o cardápio ou as ofertas para atender à demanda.  \\n* Avaliar a possibilidade de expandir o horário de funcionamento ou aumentar a equipe durante os períodos de maior movimento para melhorar o atendimento e a experiência do cliente.\\n\\n**Resumo financeiro**  \\n* **Faturamento total do mês:** R$ 122.250,95  \\n* **Média diária:** R$ 4.075,03  \\n* **Maior faturamento:** R$ 4.664,56 (dia 15)  \\n* **Menor faturamento:** R$ 3.501,33 (dia 1)  \\n\\n**Considerações finais**  \\nA análise do faturamento diário da cafeteria indica um desempenho positivo, com um crescimento notável nas duas primeiras semanas de junho. As flutuações observadas sugerem a necessidade de monitoramento contínuo e ajustes nas estratégias de vendas. A implementação de ações direcionadas pode potencialmente aumentar ainda mais o faturamento e melhorar a experiência do cliente.'"
      ]
     },
     "execution_count": 11,
     "metadata": {},
     "output_type": "execute_result"
    }
   ],
   "source": [
    "# Salvando a parte de interesse do output gerado pelo modelo\n",
    "\n",
    "html_report = completion.to_dict()['choices'][0]['message']['content']\n",
    "html_report"
   ]
  },
  {
   "cell_type": "code",
   "execution_count": 12,
   "id": "6c43b0c7-8119-4568-9cfb-4f0d3aebd1f0",
   "metadata": {},
   "outputs": [],
   "source": [
    "# html_report = '**Relatório de Análise de Faturamento - Cafeteria (Junho de 2023)**\\n\\n**Análise da tendência geral**  \\nO faturamento diário da cafeteria apresentou uma tendência de crescimento ao longo do mês de junho de 2023, com um aumento significativo nas receitas, especialmente na segunda quinzena do mês. O faturamento começou em torno de 3.500 e alcançou picos superiores a 4.400, indicando um aumento na demanda.\\n\\n**Identificação de possíveis oscilações**  \\nEmbora a tendência geral seja de crescimento, foram observadas oscilações nos dias 28 e 29, onde o faturamento caiu para 3.753 e 3.528, respectivamente. Essas oscilações podem ser atribuídas a fatores como condições climáticas ou eventos locais que impactaram o fluxo de clientes.\\n\\n**Possíveis implicações de negócio**  \\nO aumento no faturamento sugere uma oportunidade para a cafeteria expandir suas operações, talvez considerando a introdução de novos produtos ou promoções. No entanto, as oscilações indicam a necessidade de monitorar fatores externos que possam afetar a receita, como feriados ou eventos locais.\\n\\n**Resumo financeiro**  \\n* Faturamento total do mês: 123.000,00  \\n* Média diária: 4.100,00  \\n* Maiores oscilações:  \\n  * Maior faturamento: 4.417,12 (13 de junho)  \\n  * Menor faturamento: 3.501,33 (1 de junho)  \\n  * Oscilações significativas: 4.664,56 (15 de junho) para 4.401,66 (18 de junho)\\n\\n**Oscilação e picos de faturamento**  \\nO pico de faturamento observado no dia 15 de junho (4.664,56) pode estar relacionado a eventos locais ou promoções específicas. Não há feriados nacionais nos EUA durante junho que possam justificar um aumento significativo, mas eventos comunitários ou promoções de verão podem ter atraído mais clientes.\\n\\n**Considerações finais**  \\nO mês de junho de 2023 foi positivo para a cafeteria, com um crescimento notável no faturamento. As oscilações observadas devem ser monitoradas para entender melhor os fatores que influenciam a demanda. A análise sugere que a cafeteria está em uma trajetória de crescimento, mas deve estar atenta a fatores externos que possam impactar suas receitas.'"
   ]
  },
  {
   "cell_type": "code",
   "execution_count": 13,
   "id": "1b34500e-def3-408e-a389-1a8e86efe089",
   "metadata": {},
   "outputs": [
    {
     "data": {
      "text/plain": [
       "'**Tendência geral**  \\nA análise do faturamento diário da cafeteria durante o mês de junho de 2023 revela uma tendência de crescimento consistente, especialmente nas duas primeiras semanas. O faturamento aumentou de R$ 3.501,33 no dia 1º para um pico de R$ 4.664,56 no dia 15, antes de apresentar uma leve queda nas semanas seguintes. A variação diária mostra um padrão de flutuação, mas a tendência geral é de alta.\\n\\n**Visão de negócio**  \\nCom base nas tendências observadas, a cafeteria pode considerar as seguintes estratégias:  \\n* Implementar promoções ou eventos especiais durante os dias de maior movimento para maximizar o faturamento.  \\n* Analisar os produtos mais vendidos durante os dias de pico e ajustar o cardápio ou as ofertas para atender à demanda.  \\n* Avaliar a possibilidade de expandir o horário de funcionamento ou aumentar a equipe durante os períodos de maior movimento para melhorar o atendimento e a experiência do cliente.\\n\\n**Resumo financeiro**  \\n* **Faturamento total do mês:** R$ 122.250,95  \\n* **Média diária:** R$ 4.075,03  \\n* **Maior faturamento:** R$ 4.664,56 (dia 15)  \\n* **Menor faturamento:** R$ 3.501,33 (dia 1)  \\n\\n**Considerações finais**  \\nA análise do faturamento diário da cafeteria indica um desempenho positivo, com um crescimento notável nas duas primeiras semanas de junho. As flutuações observadas sugerem a necessidade de monitoramento contínuo e ajustes nas estratégias de vendas. A implementação de ações direcionadas pode potencialmente aumentar ainda mais o faturamento e melhorar a experiência do cliente.'"
      ]
     },
     "execution_count": 13,
     "metadata": {},
     "output_type": "execute_result"
    }
   ],
   "source": [
    "html_report"
   ]
  },
  {
   "cell_type": "markdown",
   "id": "bdd19a50-d304-48f1-9134-8b2020984188",
   "metadata": {},
   "source": [
    "# 4. Configurações do relatório"
   ]
  },
  {
   "cell_type": "markdown",
   "id": "91998b86-9d32-498d-8b78-3ed2f1b82e35",
   "metadata": {},
   "source": [
    "### 4.1 Configurações do gráfico"
   ]
  },
  {
   "cell_type": "code",
   "execution_count": 14,
   "id": "6d5b5ebe-4c0f-4d33-bd68-0a8e39762ad0",
   "metadata": {},
   "outputs": [],
   "source": [
    "# Definição do caminho do gráfico\n",
    "graph_path = \"data/grafico.png\"\n",
    "\n",
    "# Garantindo que a coluna 'ano-mes-dia' seja interpretada como datas\n",
    "df['ano-mes-dia'] = pd.to_datetime(df['ano-mes-dia'])\n",
    "\n",
    "# Calculando a média do faturamento\n",
    "media_faturamento = df['faturamento'].mean()\n",
    "\n",
    "# Criando o gráfico de tendência de faturamento\n",
    "plt.figure(figsize=(8, 4), dpi=300)\n",
    "plt.plot(df['ano-mes-dia'], df['faturamento'], marker='o', linestyle='-', color='#D2691E')\n",
    "\n",
    "# Adicionando a linha da média\n",
    "plt.axhline(y=media_faturamento, color='#FFA500', linestyle='--', label=f'Média: R$ {media_faturamento:.2f}')\n",
    "\n",
    "# Título e rótulos\n",
    "plt.title(\"Análise temporal do faturamento\", fontsize=12)\n",
    "plt.xlabel(\"Dias (Junho/2023)\", fontsize=10)\n",
    "plt.ylabel(\"Faturamento (R$)\", fontsize=10)\n",
    "plt.legend() # Adicionando a legenda\n",
    "\n",
    "# Ajustando os rótulos do eixo X para mostrar apenas dia e mês\n",
    "plt.xticks(\n",
    "    df['ano-mes-dia'],  # Usando as datas reais\n",
    "    df['ano-mes-dia'].dt.strftime('%d'),  # Formatando para exibir apenas dia e mês\n",
    "    ha='right', # Alinhando melhor as legendas\n",
    "    fontsize=8\n",
    ")\n",
    "\n",
    "# Ajustando os limites dos eixos para garantir que o gráfico não fique apertado\n",
    "plt.xlim(min(df['ano-mes-dia']) - pd.Timedelta(days=1), max(df['ano-mes-dia']) + pd.Timedelta(days=1)) \n",
    "plt.ylim(min(df['faturamento']) - 100, max(df['faturamento']) + 100)\n",
    "\n",
    "# Ajuste automático do layout para evitar sobreposição\n",
    "plt.tight_layout()\n",
    "\n",
    "plt.savefig(graph_path)\n",
    "plt.close()\n",
    "#plt.show()"
   ]
  },
  {
   "cell_type": "markdown",
   "id": "40b717cf-24ce-4165-9c80-b004b4a84d29",
   "metadata": {},
   "source": [
    "### 4.2 Configurações do pdf"
   ]
  },
  {
   "cell_type": "code",
   "execution_count": 15,
   "id": "203af40e-5820-4eb8-ae5e-175c1a13604a",
   "metadata": {},
   "outputs": [],
   "source": [
    "# Criando o relatório em PDF\n",
    "html_report = markdown2.markdown(html_report)\n",
    "\n",
    "pdf_filename = \"sales_report.pdf\"\n",
    "doc = SimpleDocTemplate(\n",
    "    pdf_filename,\n",
    "    pagesize=letter,\n",
    "    leftMargin=40, rightMargin=40, topMargin=20, bottomMargin=20\n",
    ")\n",
    "styles = getSampleStyleSheet()\n",
    "story = []\n",
    "\n",
    "# Estilos personalizados\n",
    "styles[\"Title\"].fontSize = 18\n",
    "styles[\"Title\"].spaceAfter = 12\n",
    "styles[\"Title\"].textColor = \"#8B4513\"\n",
    "\n",
    "styles[\"Heading1\"].fontSize = 14\n",
    "styles[\"Heading1\"].spaceBefore = 12\n",
    "styles[\"Heading1\"].spaceAfter = 6\n",
    "styles[\"Heading1\"].textColor = colors.black\n",
    "\n",
    "styles[\"BodyText\"].fontSize = 12\n",
    "styles[\"BodyText\"].leading = 14\n",
    "styles[\"BodyText\"].spaceAfter = 6\n",
    "styles[\"BodyText\"].alignment = 4  # Justificado apenas no corpo do texto\n",
    "\n",
    "# Definindo estilos para bullets aninhados\n",
    "styles.add(ParagraphStyle(\n",
    "    name=\"BulletLevel1\",\n",
    "    parent=styles[\"BodyText\"],\n",
    "    leftIndent=12,\n",
    "    bulletIndent=0,\n",
    "))\n",
    "styles.add(ParagraphStyle(\n",
    "    name=\"BulletLevel2\",\n",
    "    parent=styles[\"BodyText\"],\n",
    "    leftIndent=24,\n",
    "    bulletIndent=12,\n",
    "))\n",
    "\n",
    "# Adicionando o título do relatório\n",
    "story.append(Paragraph(\"<b>Relatório de previsão de faturamento</b>\", styles[\"Title\"]))\n",
    "story.append(Spacer(1, 0.2 * inch))\n",
    "\n",
    "# Configurações do parágrafo com bullets aninhados\n",
    "for raw_line in html_report.split(\"\\n\"):\n",
    "    text = raw_line.strip()\n",
    "    if not text:\n",
    "        continue\n",
    "\n",
    "    # Calculando indentação para bullets de segundo nível\n",
    "    indent = len(raw_line) - len(raw_line.lstrip(\" \"))\n",
    "    if text.startswith(\"* \"):\n",
    "        clean = text[2:].strip()\n",
    "        lvl = \"BulletLevel2\" if indent >= 2 else \"BulletLevel1\"\n",
    "        story.append(Paragraph(clean, styles[lvl], bulletText=\"•\"))\n",
    "    else:\n",
    "        story.append(Paragraph(text, styles[\"BodyText\"]))\n",
    "\n",
    "    story.append(Spacer(1, 0.2 * inch))"
   ]
  },
  {
   "cell_type": "markdown",
   "id": "3e6eb704-414e-4ec1-a891-9e64d90de418",
   "metadata": {},
   "source": [
    "### 4.3 Configurações da tabela"
   ]
  },
  {
   "cell_type": "code",
   "execution_count": 16,
   "id": "30eb68d6-d18c-4c0b-819f-7cb103ea0efd",
   "metadata": {},
   "outputs": [],
   "source": [
    "# Formatando a coluna 'ano-mes-dia' para exibir apenas dia/mês/ano\n",
    "df['ano-mes-dia'] = df['ano-mes-dia'].dt.strftime('%d/%m/%Y')\n",
    "\n",
    "# Arredondando os valores de faturamento para 2 casas decimais\n",
    "df['faturamento'] = df['faturamento'].round(2)\n",
    "\n",
    "# Criando a tabela com os dados ajustados\n",
    "data_table = [[\"Data\", \"Previsão (R$)\"]] + df[['ano-mes-dia', 'faturamento']].values.tolist()\n",
    "\n",
    "# Definindo a tabela\n",
    "table = Table(data_table, colWidths=[150, 150])\n",
    "\n",
    "# Aplicando o estilo da tabela\n",
    "table.setStyle(TableStyle([\n",
    "    ('BACKGROUND', (0, 0), (-1, 0), '#8B4513'),  # Cor de fundo para o cabeçalho\n",
    "    ('TEXTCOLOR', (0, 0), (-1, 0), colors.whitesmoke),  # Cor do texto do cabeçalho\n",
    "    ('ALIGN', (0, 0), (-1, -1), 'CENTER'),  # Alinhamento do texto na tabela\n",
    "    ('FONTNAME', (0, 0), (-1, 0), 'Helvetica-Bold'),  # Fonte do cabeçalho\n",
    "    ('BOTTOMPADDING', (0, 0), (-1, 0), 8),  # Padding inferior para o cabeçalho\n",
    "    ('BACKGROUND', (0, 1), (-1, -1), '#F5F5E4'),  # Cor de fundo para as células da tabela\n",
    "    ('GRID', (0, 0), (-1, -1), 1, '#D3D3D3'),  # Estilo de grade\n",
    "]))\n",
    "\n",
    "# Adicionando a tabela ao relatório\n",
    "story.append(Spacer(1, 0.3 * inch))\n",
    "story.append(Paragraph(\"Previsões de faturamento\", styles[\"Heading1\"]))\n",
    "story.append(Spacer(1, 0.1 * inch))\n",
    "story.append(table)\n",
    "\n",
    "# Adicionando um Spacer após a tabela para o gráfico não ficar tão próximo\n",
    "story.append(Spacer(1, 1 * inch))\n",
    "\n",
    "# Adicionando o gráfico\n",
    "story.append(Paragraph(\"Tendência de faturamento\", styles[\"Heading1\"]))\n",
    "story.append(Spacer(1, 0.2 * inch))\n",
    "story.append(Image(graph_path, width=600, height=300))\n",
    "story.append(Spacer(1, 0.5 * inch))"
   ]
  },
  {
   "cell_type": "code",
   "execution_count": 17,
   "id": "f103fc15-298c-42f1-92ed-f3c4b93c52ed",
   "metadata": {},
   "outputs": [],
   "source": [
    "# Gerando o PDF\n",
    "doc.build(story)"
   ]
  }
 ],
 "metadata": {
  "kernelspec": {
   "display_name": "Python 3 (ipykernel)",
   "language": "python",
   "name": "python3"
  },
  "language_info": {
   "codemirror_mode": {
    "name": "ipython",
    "version": 3
   },
   "file_extension": ".py",
   "mimetype": "text/x-python",
   "name": "python",
   "nbconvert_exporter": "python",
   "pygments_lexer": "ipython3",
   "version": "3.12.3"
  }
 },
 "nbformat": 4,
 "nbformat_minor": 5
}
