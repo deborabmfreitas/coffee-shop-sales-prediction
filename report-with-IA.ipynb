{
 "cells": [
  {
   "cell_type": "markdown",
   "id": "59c92b78-0074-4fef-ae65-bfb6d73b6e61",
   "metadata": {},
   "source": [
    "# Report with IA"
   ]
  },
  {
   "cell_type": "markdown",
   "id": "90d51c35-7f4a-4bf9-a07a-8846b24a81bb",
   "metadata": {},
   "source": [
    "**Descrição**\n",
    "* O objetivo do projeto foi criar um modelo de regressão com séries temporais, treinado com o intuito de prever o faturamento diário de uma cafeteria ao longo de um mês;\n",
    "* O objetivo do deploy é criar um report com IA contendo as previsões do modelo. Dessa forma, o cliente poderia acompanhar bem as métricas e variações apresentadas de forma automatizada\n",
    "\n",
    "**Etapas:**\n",
    "\n",
    "* Prompt para a geração do relatório\n",
    "* Configurações do relatório"
   ]
  },
  {
   "cell_type": "markdown",
   "id": "6bb8f5ea-9931-419e-9b36-7297212d78fe",
   "metadata": {},
   "source": [
    "# 1. Bibliotecas e importação dos dados"
   ]
  },
  {
   "cell_type": "code",
   "execution_count": 1,
   "id": "e9d6f77e-c0c9-437a-aefd-c0289fd08d38",
   "metadata": {},
   "outputs": [],
   "source": [
    "# Gerais\n",
    "\n",
    "import pandas as pd\n",
    "import matplotlib.pyplot as plt\n",
    "import openai\n",
    "from dotenv import load_dotenv\n",
    "import os\n",
    "import re\n",
    "\n",
    "# Geração de PDF com o ReportLab\n",
    "\n",
    "# Define o tamanho da página:\n",
    "from reportlab.lib.pagesizes import letter\n",
    "# Define os estilos de texto:\n",
    "from reportlab.lib.styles import getSampleStyleSheet, ParagraphStyle\n",
    "# Para a criação de documentos e elementos como parágrafos, tabelas e imagens:\n",
    "from reportlab.platypus import SimpleDocTemplate, Paragraph, Spacer, Table, TableStyle, Image\n",
    "# Para unidades de medida:\n",
    "from reportlab.lib.units import inch\n",
    "# Para usar cores:\n",
    "from reportlab.lib import colors\n",
    "\n",
    "# Bibliotecas para trabalhar com markdown e conversão (ex: HTML)\n",
    "\n",
    "import markdown2"
   ]
  },
  {
   "cell_type": "code",
   "execution_count": 2,
   "id": "0781a1cb-442b-4916-b3a7-24e20cea9611",
   "metadata": {},
   "outputs": [],
   "source": [
    "# Importação\n",
    "\n",
    "df = pd.read_csv('data/report_data.csv',index_col=0)"
   ]
  },
  {
   "cell_type": "code",
   "execution_count": 3,
   "id": "f6be4b2f-7dd8-4e90-9c0f-a573e69ca95d",
   "metadata": {},
   "outputs": [
    {
     "data": {
      "text/html": [
       "<div>\n",
       "<style scoped>\n",
       "    .dataframe tbody tr th:only-of-type {\n",
       "        vertical-align: middle;\n",
       "    }\n",
       "\n",
       "    .dataframe tbody tr th {\n",
       "        vertical-align: top;\n",
       "    }\n",
       "\n",
       "    .dataframe thead th {\n",
       "        text-align: right;\n",
       "    }\n",
       "</style>\n",
       "<table border=\"1\" class=\"dataframe\">\n",
       "  <thead>\n",
       "    <tr style=\"text-align: right;\">\n",
       "      <th></th>\n",
       "      <th>ano-mes-dia</th>\n",
       "      <th>faturamento</th>\n",
       "    </tr>\n",
       "  </thead>\n",
       "  <tbody>\n",
       "    <tr>\n",
       "      <th>0</th>\n",
       "      <td>2023-06-01</td>\n",
       "      <td>3501.3345</td>\n",
       "    </tr>\n",
       "    <tr>\n",
       "      <th>1</th>\n",
       "      <td>2023-06-02</td>\n",
       "      <td>3687.8699</td>\n",
       "    </tr>\n",
       "    <tr>\n",
       "      <th>2</th>\n",
       "      <td>2023-06-03</td>\n",
       "      <td>3512.5303</td>\n",
       "    </tr>\n",
       "    <tr>\n",
       "      <th>3</th>\n",
       "      <td>2023-06-04</td>\n",
       "      <td>3627.7790</td>\n",
       "    </tr>\n",
       "    <tr>\n",
       "      <th>4</th>\n",
       "      <td>2023-06-05</td>\n",
       "      <td>3570.6147</td>\n",
       "    </tr>\n",
       "  </tbody>\n",
       "</table>\n",
       "</div>"
      ],
      "text/plain": [
       "  ano-mes-dia  faturamento\n",
       "0  2023-06-01    3501.3345\n",
       "1  2023-06-02    3687.8699\n",
       "2  2023-06-03    3512.5303\n",
       "3  2023-06-04    3627.7790\n",
       "4  2023-06-05    3570.6147"
      ]
     },
     "execution_count": 3,
     "metadata": {},
     "output_type": "execute_result"
    }
   ],
   "source": [
    "df.head()"
   ]
  },
  {
   "cell_type": "markdown",
   "id": "516128d4-b589-4798-ba3a-21b1200a8888",
   "metadata": {
    "jp-MarkdownHeadingCollapsed": true
   },
   "source": [
    "# 2. Acessando a API da OpenAI"
   ]
  },
  {
   "cell_type": "code",
   "execution_count": 4,
   "id": "4a0b9720-9c7c-4cb5-9643-6e47058636e3",
   "metadata": {},
   "outputs": [],
   "source": [
    "# Acessando API\n",
    "\n",
    "load_dotenv()\n",
    "secret_key = os.getenv(\"OPEN_API_KEY\")"
   ]
  },
  {
   "cell_type": "code",
   "execution_count": 5,
   "id": "f21d2a9e-2086-4639-b2d0-d752338f6649",
   "metadata": {},
   "outputs": [],
   "source": [
    "# Instanciando\n",
    "\n",
    "client = openai.OpenAI(api_key=secret_key)"
   ]
  },
  {
   "cell_type": "markdown",
   "id": "0e71da8f-18da-435b-9935-541007c2f54a",
   "metadata": {},
   "source": [
    "# 3. Prompt para a geração do relatório com o GPT-4"
   ]
  },
  {
   "cell_type": "code",
   "execution_count": 6,
   "id": "b15c70f1-d7cd-4218-8e73-1841bfbc7935",
   "metadata": {},
   "outputs": [
    {
     "data": {
      "text/plain": [
       "'ano-mes-dia  faturamento\\n 2023-06-01    3501.3345\\n 2023-06-02    3687.8699\\n 2023-06-03    3512.5303\\n 2023-06-04    3627.7790\\n 2023-06-05    3570.6147\\n 2023-06-06    3772.3198\\n 2023-06-07    3763.6150\\n 2023-06-08    3899.9277\\n 2023-06-09    3988.8083\\n 2023-06-10    4267.1177\\n 2023-06-11    4279.8730\\n 2023-06-12    4398.9785\\n 2023-06-13    4417.1170\\n 2023-06-14    4552.8600\\n 2023-06-15    4664.5620\\n 2023-06-16    4612.7760\\n 2023-06-17    4499.0537\\n 2023-06-18    4401.6606\\n 2023-06-19    4496.7974\\n 2023-06-20    4496.4673\\n 2023-06-21    4352.6760\\n 2023-06-22    4234.0557\\n 2023-06-23    4042.9932\\n 2023-06-24    4064.5315\\n 2023-06-25    4172.6597\\n 2023-06-26    4100.8960\\n 2023-06-27    4026.1042\\n 2023-06-28    3753.1160\\n 2023-06-29    3528.1300\\n 2023-06-30    3563.7275'"
      ]
     },
     "execution_count": 6,
     "metadata": {},
     "output_type": "execute_result"
    }
   ],
   "source": [
    "# Passando o dataframe com as previsões para texto\n",
    "\n",
    "data_text = df.to_string(index=False)\n",
    "data_text"
   ]
  },
  {
   "cell_type": "code",
   "execution_count": 7,
   "id": "f7f2f282-e951-40b9-a1bb-65132530bbc7",
   "metadata": {},
   "outputs": [],
   "source": [
    "# Prompt gerado para o GPT-4\n",
    "\n",
    "prompt = f\"\"\"\n",
    "Você é um analista de dados. Baseado nas seguintes previsões de faturamento diário de uma cafeteria,\n",
    "gere um relatório curto e conciso sumarizando as principais tendências, pontos notáveis e potenciais insights:\n",
    "\n",
    "{data_text}\n",
    "\n",
    "Seu relatório deve conter:\n",
    "- Uma análise curta da tendência geral.\n",
    "- Identificação de possíveis oscilações.\n",
    "- Possíveis implicações de negócio.\n",
    "\n",
    "Entregue uma análise concisa, porém informativa.\n",
    "A análise deve ser devolvida em markdown.\n",
    "Para fins de clareza, organize o relatório em seções bem definidas com títulos destacados (por exemplo, em negrito).\n",
    "O restante do conteúdo pode seguir em texto simples.\n",
    "\n",
    "\"\"\""
   ]
  },
  {
   "cell_type": "code",
   "execution_count": 8,
   "id": "52c9d6b5-401f-4378-a0ce-036b36a768bc",
   "metadata": {},
   "outputs": [],
   "source": [
    "completion = client.chat.completions.create(\n",
    "  model=\"gpt-4o-mini\", store=True, temperature=0, max_tokens=1000,\n",
    "  messages=[{\"role\": \"system\", \"content\": \"Você é um analista de dados eficiente.\"},\n",
    "              {\"role\": \"user\", \"content\": prompt}]\n",
    ")"
   ]
  },
  {
   "cell_type": "code",
   "execution_count": 9,
   "id": "b2aedbf0-ba5c-436d-bb24-c86edc9346dc",
   "metadata": {},
   "outputs": [
    {
     "data": {
      "text/plain": [
       "'# Relatório de Análise de Faturamento Diário da Cafeteria - Junho de 2023\\n\\n**Tendência Geral**\\n\\nO faturamento diário da cafeteria apresentou uma tendência de crescimento ao longo do mês de junho de 2023. O valor inicial de R$ 3.501,33 no dia 1º subiu para R$ 3.563,73 no dia 30, com um pico de R$ 4.398,98 no dia 12. A média de faturamento diário ao longo do mês foi de aproximadamente R$ 4.000,00, indicando um desempenho positivo e um aumento na demanda.\\n\\n**Oscilações Notáveis**\\n\\nApesar da tendência de crescimento, foram observadas algumas oscilações significativas. O faturamento atingiu seu ponto mais alto no dia 12, seguido por uma leve queda nos dias subsequentes, com valores variando entre R$ 4.000,00 e R$ 4.600,00 até o dia 18. A partir do dia 19, o faturamento começou a apresentar uma tendência de queda, com valores caindo para cerca de R$ 3.500,00 até o final do mês. Essa oscilação pode ser atribuída a fatores como variações na demanda, promoções ou eventos locais.\\n\\n**Implicações de Negócio**\\n\\nAs tendências de crescimento no faturamento são encorajadoras e sugerem que a cafeteria está atraindo mais clientes. No entanto, as oscilações observadas indicam a necessidade de uma análise mais aprofundada para entender os fatores que influenciam a demanda. A implementação de estratégias de marketing, promoções em dias de menor movimento e a análise de eventos locais podem ajudar a estabilizar o faturamento e maximizar os lucros. Além disso, monitorar as preferências dos clientes e ajustar o cardápio pode contribuir para um aumento contínuo nas vendas. \\n\\nEm resumo, enquanto o desempenho geral é positivo, a gestão proativa das oscilações pode ser crucial para garantir um crescimento sustentável no futuro.'"
      ]
     },
     "execution_count": 9,
     "metadata": {},
     "output_type": "execute_result"
    }
   ],
   "source": [
    "# Salvando a parte de interesse do output gerado pelo modelo\n",
    "\n",
    "html_report = completion.to_dict()['choices'][0]['message']['content']\n",
    "html_report"
   ]
  },
  {
   "cell_type": "code",
   "execution_count": 10,
   "id": "6c43b0c7-8119-4568-9cfb-4f0d3aebd1f0",
   "metadata": {},
   "outputs": [],
   "source": [
    "# html_report = '### Relatório de Análise de Faturamento Diário da Cafeteria - Junho de 2023\\n\\n#### Tendência Geral\\nO faturamento diário da cafeteria apresentou uma tendência de crescimento ao longo do mês de junho, com um aumento significativo nos primeiros 15 dias. O faturamento subiu de R$ 3.501,33 no dia 1º para R$ 4.664,56 no dia 15, representando um crescimento de aproximadamente 33%. Após esse pico, observou-se uma leve queda, estabilizando-se em torno de R$ 4.000,00 nos últimos dias do mês.\\n\\n#### Oscilações Notáveis\\n- **Pico de Faturamento**: O maior faturamento foi registrado no dia 15, com R$ 4.664,56.\\n- **Queda e Estabilização**: Após o dia 15, o faturamento começou a oscilar, com uma queda acentuada nos dias 28 e 29, onde o faturamento caiu para R$ 3.753,12 e R$ 3.528,13, respectivamente. Essa oscilação sugere uma possível sazonalidade ou impacto de fatores externos, como clima ou eventos locais.\\n\\n#### Implicações de Negócio\\n1. **Promoções e Marketing**: O aumento do faturamento no início do mês pode indicar uma resposta positiva a campanhas de marketing ou promoções. É recomendável analisar quais ações foram implementadas e considerar a repetição ou ampliação dessas estratégias.\\n   \\n2. **Gestão de Estoque**: A oscilação no faturamento sugere a necessidade de uma gestão de estoque mais dinâmica, especialmente em relação a produtos que podem ter alta demanda em dias específicos.\\n\\n3. **Análise de Sazonalidade**: A queda no final do mês pode indicar uma sazonalidade que deve ser investigada. Compreender os padrões de consumo pode ajudar a planejar melhor as operações e maximizar o faturamento.\\n\\n4. **Feedback do Cliente**: Considerar a coleta de feedback dos clientes durante os dias de menor faturamento pode fornecer insights sobre possíveis melhorias no serviço ou no cardápio.\\n\\nEm resumo, o mês de junho apresentou um desempenho positivo, mas a análise das oscilações e a implementação de estratégias baseadas em dados podem ajudar a otimizar ainda mais o desempenho da cafeteria.'"
   ]
  },
  {
   "cell_type": "markdown",
   "id": "bdd19a50-d304-48f1-9134-8b2020984188",
   "metadata": {},
   "source": [
    "# 4. Configurações do relatório"
   ]
  },
  {
   "cell_type": "markdown",
   "id": "91998b86-9d32-498d-8b78-3ed2f1b82e35",
   "metadata": {},
   "source": [
    "### 4.1 Configurações do gráfico"
   ]
  },
  {
   "cell_type": "code",
   "execution_count": 11,
   "id": "dc453139-d0e7-406d-a233-a44c7164c7ee",
   "metadata": {},
   "outputs": [],
   "source": [
    "# Definição do caminho do gráfico\n",
    "graph_path = \"data/grafico.png\"\n",
    "\n",
    "# Criando o gráfico de tendência de faturamento\n",
    "plt.figure(figsize=(20, 10), dpi=300)\n",
    "plt.plot(df['ano-mes-dia'], df['faturamento'], marker='s', linestyle='-', color='#D2691E')\n",
    "plt.title(\"Tendência de faturamento\", fontsize=14)\n",
    "plt.xlabel(\"Data\", fontsize=12)\n",
    "plt.ylabel(\"Faturamento (R$)\", fontsize=12)\n",
    "\n",
    "# Adicionando os valores nos pontos do gráfico\n",
    "for i, valor in enumerate(df['faturamento']):\n",
    "    plt.text(df['ano-mes-dia'][i], valor, f'{valor:.2f}', fontsize=7, ha='center', va='bottom')\n",
    "\n",
    "plt.xticks(rotation=45)\n",
    "plt.savefig(graph_path)\n",
    "plt.close()"
   ]
  },
  {
   "cell_type": "markdown",
   "id": "40b717cf-24ce-4165-9c80-b004b4a84d29",
   "metadata": {},
   "source": [
    "### 4.2 Configurações do pdf"
   ]
  },
  {
   "cell_type": "code",
   "execution_count": 12,
   "id": "9c85933a-a633-4602-9039-b7b390c069b3",
   "metadata": {},
   "outputs": [],
   "source": [
    "# Criando o relatório em PDF\n",
    "html_report = markdown2.markdown(html_report)\n",
    "\n",
    "pdf_filename = \"sales_report.pdf\"\n",
    "doc = SimpleDocTemplate(pdf_filename, pagesize=letter, leftMargin=40, rightMargin=40, topMargin=20, bottomMargin=20)\n",
    "styles = getSampleStyleSheet()\n",
    "story = []\n",
    "\n",
    "# Estilos personalizados\n",
    "styles[\"Title\"].fontSize = 18\n",
    "styles[\"Title\"].spaceAfter = 12\n",
    "styles[\"Title\"].textColor = \"#8B4513\"\n",
    "styles[\"Heading1\"].fontSize = 14\n",
    "styles[\"Heading1\"].spaceBefore = 12\n",
    "styles[\"Heading1\"].spaceAfter = 6\n",
    "styles[\"Heading1\"].textColor = colors.black\n",
    "styles[\"BodyText\"].fontSize = 12\n",
    "styles[\"BodyText\"].leading = 14\n",
    "styles[\"BodyText\"].spaceAfter = 6\n",
    "\n",
    "# Adicionando o título\n",
    "title = Paragraph(\"<b>Relatório de Previsão de Faturamento</b>\", styles[\"Title\"])\n",
    "story.append(title)\n",
    "story.append(Spacer(1, 0.2 * inch))\n",
    "\n",
    "# Configurações do parágrafo\n",
    "for paragraph in html_report.split(\"\\n\"):\n",
    "    if paragraph.strip():\n",
    "        story.append(Paragraph(paragraph, styles[\"BodyText\"]))\n",
    "        story.append(Spacer(1, 0.2 * inch))"
   ]
  },
  {
   "cell_type": "markdown",
   "id": "3e6eb704-414e-4ec1-a891-9e64d90de418",
   "metadata": {},
   "source": [
    "### 4.3 Configurações do pdf"
   ]
  },
  {
   "cell_type": "code",
   "execution_count": 13,
   "id": "aee25a05-75af-492e-81c0-5a06b57e4130",
   "metadata": {},
   "outputs": [],
   "source": [
    "# Criando a tabela\n",
    "data_table = [[\"Data\", \"Previsão (R$)\"]] + df[['ano-mes-dia', 'faturamento']].values.tolist()\n",
    "table = Table(data_table, colWidths=[150, 150])\n",
    "table.setStyle(TableStyle([\n",
    "    ('BACKGROUND', (0, 0), (-1, 0), '#8B4513'),\n",
    "    ('TEXTCOLOR', (0, 0), (-1, 0), colors.whitesmoke),\n",
    "    ('ALIGN', (0, 0), (-1, -1), 'CENTER'),\n",
    "    ('FONTNAME', (0, 0), (-1, 0), 'Helvetica-Bold'),\n",
    "    ('BOTTOMPADDING', (0, 0), (-1, 0), 8),\n",
    "    ('BACKGROUND', (0, 1), (-1, -1), '#F5F5DC'),\n",
    "    ('GRID', (0, 0), (-1, -1), 1, '#D3D3D3'),\n",
    "]))\n",
    "\n",
    "story.append(Spacer(1, 0.3 * inch))\n",
    "story.append(Paragraph(\"Previsões de faturamento:\", styles[\"Heading1\"]))\n",
    "story.append(Spacer(1, 0.1 * inch))\n",
    "story.append(table)\n",
    "\n",
    "# Adicionando o gráfico\n",
    "story.append(Paragraph(\"Tendência de faturamento\", styles[\"Heading1\"]))\n",
    "story.append(Spacer(1, 0.2 * inch))\n",
    "story.append(Image(graph_path, width=700, height=400))\n",
    "story.append(Spacer(1, 0.5 * inch))"
   ]
  },
  {
   "cell_type": "code",
   "execution_count": 14,
   "id": "f103fc15-298c-42f1-92ed-f3c4b93c52ed",
   "metadata": {},
   "outputs": [],
   "source": [
    "# Gerando o PDF\n",
    "doc.build(story)"
   ]
  },
  {
   "cell_type": "markdown",
   "id": "50f84f1e-9759-4223-b888-a0d59262b926",
   "metadata": {},
   "source": [
    "# 5. Automatizando a geração do relatório"
   ]
  },
  {
   "cell_type": "code",
   "execution_count": 15,
   "id": "86556014-bd3d-4df3-93d5-f0d3882e38bb",
   "metadata": {},
   "outputs": [],
   "source": [
    "def generate_coffee_forecast_report(df, model='gpt-4o-mini', max_tokens=1000, temperature=0):\n",
    "    \"\"\"\n",
    "    Gera um relatório conciso baseado em previsões de faturamento diário de uma cafeteria.\n",
    "\n",
    "    Parâmetros:\n",
    "    - df: DataFrame com os dados de previsão.\n",
    "    - model: Modelo da OpenAI a ser usado.\n",
    "    - max_tokens: Número máximo de tokens a serem gerados.\n",
    "    - temperature: Temperatura da geração (controle de criatividade).\n",
    "\n",
    "    Retorna:\n",
    "    - Um relatório textual com tendências, oscilações e implicações de negócio.\n",
    "    \"\"\"\n",
    "    \n",
    "    # Convertendo o DataFrame para texto\n",
    "    data_text = df.to_string(index=False)\n",
    "    \n",
    "    # Criando o prompt\n",
    "    prompt = f\"\"\"\n",
    "    Você é um analista de dados. Baseado nas seguintes previsões de faturamento diário de uma cafeteria, gere um relatório curto e conciso sumarizando as principais tendências, pontos notáveis e potenciais insights:\n",
    "\n",
    "    {data_text}\n",
    "\n",
    "    Seu relatório deve conter:\n",
    "    - Uma análise curta da tendência geral.\n",
    "    - Identificação de possíveis oscilações.\n",
    "    - Possíveis implicações de negócio.\n",
    "\n",
    "    Entregue uma análise concisa, porém informativa.\n",
    "    A análise deve ser devolvida em markdown.\n",
    "    \"\"\"\n",
    "\n",
    "    # Chamando o modelo da OpenAI\n",
    "    completion = client.chat.completions.create(\n",
    "        model=model,\n",
    "        temperature=temperature,\n",
    "        max_tokens=max_tokens,\n",
    "        messages=[\n",
    "            {\"role\": \"system\", \"content\": \"Você é um analista de dados eficiente.\"},\n",
    "            {\"role\": \"user\", \"content\": prompt}\n",
    "        ]\n",
    "    )\n",
    "\n",
    "    # Extraindo o conteúdo do relatório\n",
    "    report = completion.to_dict()['choices'][0]['message']['content']\n",
    "    \n",
    "    return report"
   ]
  }
 ],
 "metadata": {
  "kernelspec": {
   "display_name": "Python 3 (ipykernel)",
   "language": "python",
   "name": "python3"
  },
  "language_info": {
   "codemirror_mode": {
    "name": "ipython",
    "version": 3
   },
   "file_extension": ".py",
   "mimetype": "text/x-python",
   "name": "python",
   "nbconvert_exporter": "python",
   "pygments_lexer": "ipython3",
   "version": "3.12.3"
  }
 },
 "nbformat": 4,
 "nbformat_minor": 5
}
