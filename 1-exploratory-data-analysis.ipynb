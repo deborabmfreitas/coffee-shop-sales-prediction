{
 "cells": [
  {
   "cell_type": "markdown",
   "id": "e61f3daf-06af-4b47-8434-752ef7b6f139",
   "metadata": {},
   "source": [
    "# Bibliotecas"
   ]
  },
  {
   "cell_type": "code",
   "execution_count": 1,
   "id": "c0e79afb-6080-4b55-b666-81f3bda7d848",
   "metadata": {},
   "outputs": [],
   "source": [
    "# Data manipulation\n",
    "\n",
    "import pandas as pd\n",
    "import numpy as np\n",
    "\n",
    "# Data viz\n",
    "\n",
    "import matplotlib.pyplot as plt\n",
    "import seaborn as sns"
   ]
  },
  {
   "cell_type": "markdown",
   "id": "2b09d348-9fd6-4170-8f7a-c451514abda0",
   "metadata": {},
   "source": [
    "# 1. Obtenção dos dados"
   ]
  },
  {
   "cell_type": "code",
   "execution_count": 17,
   "id": "af27ee18-35fb-468a-b4f5-b7a456462d9a",
   "metadata": {},
   "outputs": [],
   "source": [
    "# import os\n",
    "# if not os.path.exists('data'):\n",
    "#     os.makedirs('data')"
   ]
  },
  {
   "cell_type": "code",
   "execution_count": 5,
   "id": "c4483de8-0277-45ed-8b32-ffe5e62bc3b6",
   "metadata": {},
   "outputs": [],
   "source": [
    "# !kaggle datasets download -d ahmedabbas757/coffee-sales -p data --unzip"
   ]
  },
  {
   "cell_type": "markdown",
   "id": "e3669cf4-3630-4136-891d-eff0aec9c0fa",
   "metadata": {},
   "source": [
    "# 2. Importação dos dados"
   ]
  },
  {
   "cell_type": "code",
   "execution_count": 13,
   "id": "9061c132-0ec6-406a-9c10-8c9d28c87f95",
   "metadata": {},
   "outputs": [],
   "source": [
    "data = pd.read_excel('data/Coffee Shop Sales.xlsx')"
   ]
  },
  {
   "cell_type": "code",
   "execution_count": 23,
   "id": "102c1a9f-211b-47f9-ab23-4adad1297f70",
   "metadata": {},
   "outputs": [
    {
     "name": "stdout",
     "output_type": "stream",
     "text": [
      "Linhas: 149116\n",
      "Colunas: 11\n"
     ]
    }
   ],
   "source": [
    "print(f'Linhas: {data.shape[0]}')\n",
    "print(f'Colunas: {data.shape[1]}')"
   ]
  },
  {
   "cell_type": "code",
   "execution_count": 14,
   "id": "83265e80-5c4e-4c2a-b680-6aea5c6cbcd0",
   "metadata": {},
   "outputs": [
    {
     "data": {
      "text/html": [
       "<div>\n",
       "<style scoped>\n",
       "    .dataframe tbody tr th:only-of-type {\n",
       "        vertical-align: middle;\n",
       "    }\n",
       "\n",
       "    .dataframe tbody tr th {\n",
       "        vertical-align: top;\n",
       "    }\n",
       "\n",
       "    .dataframe thead th {\n",
       "        text-align: right;\n",
       "    }\n",
       "</style>\n",
       "<table border=\"1\" class=\"dataframe\">\n",
       "  <thead>\n",
       "    <tr style=\"text-align: right;\">\n",
       "      <th></th>\n",
       "      <th>transaction_id</th>\n",
       "      <th>transaction_date</th>\n",
       "      <th>transaction_time</th>\n",
       "      <th>transaction_qty</th>\n",
       "      <th>store_id</th>\n",
       "      <th>store_location</th>\n",
       "      <th>product_id</th>\n",
       "      <th>unit_price</th>\n",
       "      <th>product_category</th>\n",
       "      <th>product_type</th>\n",
       "      <th>product_detail</th>\n",
       "    </tr>\n",
       "  </thead>\n",
       "  <tbody>\n",
       "    <tr>\n",
       "      <th>0</th>\n",
       "      <td>1</td>\n",
       "      <td>2023-01-01</td>\n",
       "      <td>07:06:11</td>\n",
       "      <td>2</td>\n",
       "      <td>5</td>\n",
       "      <td>Lower Manhattan</td>\n",
       "      <td>32</td>\n",
       "      <td>3.0</td>\n",
       "      <td>Coffee</td>\n",
       "      <td>Gourmet brewed coffee</td>\n",
       "      <td>Ethiopia Rg</td>\n",
       "    </tr>\n",
       "    <tr>\n",
       "      <th>1</th>\n",
       "      <td>2</td>\n",
       "      <td>2023-01-01</td>\n",
       "      <td>07:08:56</td>\n",
       "      <td>2</td>\n",
       "      <td>5</td>\n",
       "      <td>Lower Manhattan</td>\n",
       "      <td>57</td>\n",
       "      <td>3.1</td>\n",
       "      <td>Tea</td>\n",
       "      <td>Brewed Chai tea</td>\n",
       "      <td>Spicy Eye Opener Chai Lg</td>\n",
       "    </tr>\n",
       "    <tr>\n",
       "      <th>2</th>\n",
       "      <td>3</td>\n",
       "      <td>2023-01-01</td>\n",
       "      <td>07:14:04</td>\n",
       "      <td>2</td>\n",
       "      <td>5</td>\n",
       "      <td>Lower Manhattan</td>\n",
       "      <td>59</td>\n",
       "      <td>4.5</td>\n",
       "      <td>Drinking Chocolate</td>\n",
       "      <td>Hot chocolate</td>\n",
       "      <td>Dark chocolate Lg</td>\n",
       "    </tr>\n",
       "  </tbody>\n",
       "</table>\n",
       "</div>"
      ],
      "text/plain": [
       "   transaction_id transaction_date transaction_time  transaction_qty  \\\n",
       "0               1       2023-01-01         07:06:11                2   \n",
       "1               2       2023-01-01         07:08:56                2   \n",
       "2               3       2023-01-01         07:14:04                2   \n",
       "\n",
       "   store_id   store_location  product_id  unit_price    product_category  \\\n",
       "0         5  Lower Manhattan          32         3.0              Coffee   \n",
       "1         5  Lower Manhattan          57         3.1                 Tea   \n",
       "2         5  Lower Manhattan          59         4.5  Drinking Chocolate   \n",
       "\n",
       "            product_type            product_detail  \n",
       "0  Gourmet brewed coffee               Ethiopia Rg  \n",
       "1        Brewed Chai tea  Spicy Eye Opener Chai Lg  \n",
       "2          Hot chocolate         Dark chocolate Lg  "
      ]
     },
     "execution_count": 14,
     "metadata": {},
     "output_type": "execute_result"
    }
   ],
   "source": [
    "data.head(3)"
   ]
  },
  {
   "cell_type": "markdown",
   "id": "75fd086a-ff8b-463c-8137-3a5b94ae3157",
   "metadata": {},
   "source": [
    "# 3. Inspeção geral dos dados"
   ]
  },
  {
   "cell_type": "markdown",
   "id": "5f60d04e-b9a0-4934-914f-76f444837892",
   "metadata": {},
   "source": [
    "| **Variável**            | **Descrição**                                                                                   |\n",
    "|------------------------|-----------------------------------------------------------------------------------------------|\n",
    "| **transaction_id**     | ID sequencial único representando uma transação individual                                    |\n",
    "| **transaction_date**   | Data da transação (MM/DD/YY)                                                                  |\n",
    "| **transaction_time**   | Horário da transação (HH:MM:SS)                                                               |\n",
    "| **transaction_qty**    | Quantidade de itens vendidos                                                                  |\n",
    "| **store_id**           | ID único da cafeteria onde a transação ocorreu                                               |\n",
    "| **store_location**     | Localização da cafeteria onde a transação ocorreu                                            |\n",
    "| **product_id**         | ID único do produto vendido                                                                  |\n",
    "| **unit_price**         | Preço de varejo do produto vendido                                                           |\n",
    "| **product_category**   | Descrição da categoria do produto                                                            |\n",
    "| **product_type**       | Descrição do tipo de produto                                                                 |\n",
    "| **product_detail**     | Descrição do detalhe do produto                                                              |\n"
   ]
  },
  {
   "cell_type": "markdown",
   "id": "252e3857-bb86-462d-b1b4-1381314c17dc",
   "metadata": {},
   "source": [
    "# 4.Split dos dados"
   ]
  },
  {
   "cell_type": "code",
   "execution_count": 16,
   "id": "31585753-7f24-4e1f-ba37-b79aa58b90ad",
   "metadata": {},
   "outputs": [],
   "source": [
    "# Verificar as datas"
   ]
  },
  {
   "cell_type": "code",
   "execution_count": 31,
   "id": "cba08df8-2514-4ee0-a040-72d4b2c3bb36",
   "metadata": {},
   "outputs": [
    {
     "data": {
      "text/plain": [
       "0   2023-01-01\n",
       "1   2023-01-01\n",
       "2   2023-01-01\n",
       "3   2023-01-01\n",
       "4   2023-01-01\n",
       "Name: transaction_date, dtype: datetime64[ns]"
      ]
     },
     "execution_count": 31,
     "metadata": {},
     "output_type": "execute_result"
    }
   ],
   "source": [
    "data['transaction_date'].head()"
   ]
  },
  {
   "cell_type": "code",
   "execution_count": 29,
   "id": "24d09989-42bc-427f-88de-1aa2796ddc2b",
   "metadata": {},
   "outputs": [
    {
     "data": {
      "text/plain": [
       "149111   2023-06-30\n",
       "149112   2023-06-30\n",
       "149113   2023-06-30\n",
       "149114   2023-06-30\n",
       "149115   2023-06-30\n",
       "Name: transaction_date, dtype: datetime64[ns]"
      ]
     },
     "execution_count": 29,
     "metadata": {},
     "output_type": "execute_result"
    }
   ],
   "source": [
    "data['transaction_date'].tail()"
   ]
  },
  {
   "cell_type": "code",
   "execution_count": 33,
   "id": "bc7a8533-877b-4f96-9a79-9a7e51c81bd9",
   "metadata": {},
   "outputs": [],
   "source": [
    "# Aparentemente são 6 meses"
   ]
  },
  {
   "cell_type": "markdown",
   "id": "97cb5cf5-0347-49d3-9182-19b2207f5f13",
   "metadata": {},
   "source": [
    "# 5. EDA"
   ]
  },
  {
   "cell_type": "code",
   "execution_count": 35,
   "id": "7c0bb46e-c42f-4c3b-a6d2-53604eac0af9",
   "metadata": {},
   "outputs": [
    {
     "data": {
      "text/plain": [
       "149116"
      ]
     },
     "execution_count": 35,
     "metadata": {},
     "output_type": "execute_result"
    }
   ],
   "source": [
    "data['transaction_id'].nunique()"
   ]
  },
  {
   "cell_type": "code",
   "execution_count": 36,
   "id": "c1932872-be0e-49c8-918c-822bba043ab8",
   "metadata": {},
   "outputs": [
    {
     "data": {
      "text/plain": [
       "3"
      ]
     },
     "execution_count": 36,
     "metadata": {},
     "output_type": "execute_result"
    }
   ],
   "source": [
    "data['store_id'].nunique()"
   ]
  },
  {
   "cell_type": "code",
   "execution_count": 37,
   "id": "08709a00-7226-4fdd-944b-715764f0ffc0",
   "metadata": {},
   "outputs": [
    {
     "data": {
      "text/plain": [
       "3"
      ]
     },
     "execution_count": 37,
     "metadata": {},
     "output_type": "execute_result"
    }
   ],
   "source": [
    "data['store_location'].nunique()"
   ]
  },
  {
   "cell_type": "code",
   "execution_count": 39,
   "id": "17be8ba3-141d-478b-8f3d-2ef2b06d1d42",
   "metadata": {},
   "outputs": [
    {
     "data": {
      "text/plain": [
       "80"
      ]
     },
     "execution_count": 39,
     "metadata": {},
     "output_type": "execute_result"
    }
   ],
   "source": [
    "data['product_id'].nunique()"
   ]
  },
  {
   "cell_type": "code",
   "execution_count": 40,
   "id": "a17808fe-ceb8-4521-85bd-6e68d562e1eb",
   "metadata": {},
   "outputs": [
    {
     "data": {
      "text/plain": [
       "9"
      ]
     },
     "execution_count": 40,
     "metadata": {},
     "output_type": "execute_result"
    }
   ],
   "source": [
    "data['product_category'].nunique()"
   ]
  },
  {
   "cell_type": "code",
   "execution_count": 41,
   "id": "a59855cf-2f38-4828-99b8-5cd77ada3aae",
   "metadata": {},
   "outputs": [
    {
     "data": {
      "text/plain": [
       "29"
      ]
     },
     "execution_count": 41,
     "metadata": {},
     "output_type": "execute_result"
    }
   ],
   "source": [
    "data['product_type'].nunique()"
   ]
  },
  {
   "cell_type": "code",
   "execution_count": 44,
   "id": "7ac8b539-142f-481d-a914-0708ca003ee7",
   "metadata": {},
   "outputs": [
    {
     "data": {
      "text/plain": [
       "80"
      ]
     },
     "execution_count": 44,
     "metadata": {},
     "output_type": "execute_result"
    }
   ],
   "source": [
    "data['product_detail'].nunique()"
   ]
  },
  {
   "cell_type": "code",
   "execution_count": 46,
   "id": "224564e4-9e17-49d3-b657-31b41a515889",
   "metadata": {},
   "outputs": [
    {
     "data": {
      "text/plain": [
       "count    149116.000000\n",
       "mean          3.382219\n",
       "std           2.658723\n",
       "min           0.800000\n",
       "25%           2.500000\n",
       "50%           3.000000\n",
       "75%           3.750000\n",
       "max          45.000000\n",
       "Name: unit_price, dtype: float64"
      ]
     },
     "execution_count": 46,
     "metadata": {},
     "output_type": "execute_result"
    }
   ],
   "source": [
    "data['unit_price'].describe()"
   ]
  }
 ],
 "metadata": {
  "kernelspec": {
   "display_name": "Python 3 (ipykernel)",
   "language": "python",
   "name": "python3"
  },
  "language_info": {
   "codemirror_mode": {
    "name": "ipython",
    "version": 3
   },
   "file_extension": ".py",
   "mimetype": "text/x-python",
   "name": "python",
   "nbconvert_exporter": "python",
   "pygments_lexer": "ipython3",
   "version": "3.12.3"
  }
 },
 "nbformat": 4,
 "nbformat_minor": 5
}
