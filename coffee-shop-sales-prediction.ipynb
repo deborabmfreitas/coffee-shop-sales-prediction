{
 "cells": [
  {
   "cell_type": "markdown",
   "id": "e61f3daf-06af-4b47-8434-752ef7b6f139",
   "metadata": {
    "jp-MarkdownHeadingCollapsed": true
   },
   "source": [
    "# Bibliotecas"
   ]
  },
  {
   "cell_type": "code",
   "execution_count": 1,
   "id": "c0e79afb-6080-4b55-b666-81f3bda7d848",
   "metadata": {},
   "outputs": [],
   "source": [
    "# Data manipulation\n",
    "\n",
    "import pandas as pd\n",
    "import numpy as np\n",
    "\n",
    "# Data viz\n",
    "\n",
    "import matplotlib.pyplot as plt\n",
    "import seaborn as sns"
   ]
  },
  {
   "cell_type": "markdown",
   "id": "2b09d348-9fd6-4170-8f7a-c451514abda0",
   "metadata": {
    "jp-MarkdownHeadingCollapsed": true
   },
   "source": [
    "# 1. Obtenção dos dados"
   ]
  },
  {
   "cell_type": "code",
   "execution_count": 2,
   "id": "af27ee18-35fb-468a-b4f5-b7a456462d9a",
   "metadata": {},
   "outputs": [],
   "source": [
    "import os\n",
    "if not os.path.exists('data'):\n",
    "    os.makedirs('data')"
   ]
  },
  {
   "cell_type": "code",
   "execution_count": 3,
   "id": "c4483de8-0277-45ed-8b32-ffe5e62bc3b6",
   "metadata": {},
   "outputs": [],
   "source": [
    "# !kaggle datasets download -d ahmedabbas757/coffee-sales -p data --unzip"
   ]
  },
  {
   "cell_type": "markdown",
   "id": "e3669cf4-3630-4136-891d-eff0aec9c0fa",
   "metadata": {
    "jp-MarkdownHeadingCollapsed": true
   },
   "source": [
    "# 2. Importação dos dados"
   ]
  },
  {
   "cell_type": "code",
   "execution_count": 4,
   "id": "9061c132-0ec6-406a-9c10-8c9d28c87f95",
   "metadata": {},
   "outputs": [],
   "source": [
    "data = pd.read_excel('data/Coffee Shop Sales.xlsx')"
   ]
  },
  {
   "cell_type": "code",
   "execution_count": 5,
   "id": "102c1a9f-211b-47f9-ab23-4adad1297f70",
   "metadata": {},
   "outputs": [
    {
     "name": "stdout",
     "output_type": "stream",
     "text": [
      "Linhas: 149116\n",
      "Colunas: 11\n"
     ]
    }
   ],
   "source": [
    "print(f'Linhas: {data.shape[0]}')\n",
    "print(f'Colunas: {data.shape[1]}')"
   ]
  },
  {
   "cell_type": "code",
   "execution_count": 6,
   "id": "83265e80-5c4e-4c2a-b680-6aea5c6cbcd0",
   "metadata": {},
   "outputs": [
    {
     "data": {
      "text/html": [
       "<div>\n",
       "<style scoped>\n",
       "    .dataframe tbody tr th:only-of-type {\n",
       "        vertical-align: middle;\n",
       "    }\n",
       "\n",
       "    .dataframe tbody tr th {\n",
       "        vertical-align: top;\n",
       "    }\n",
       "\n",
       "    .dataframe thead th {\n",
       "        text-align: right;\n",
       "    }\n",
       "</style>\n",
       "<table border=\"1\" class=\"dataframe\">\n",
       "  <thead>\n",
       "    <tr style=\"text-align: right;\">\n",
       "      <th></th>\n",
       "      <th>transaction_id</th>\n",
       "      <th>transaction_date</th>\n",
       "      <th>transaction_time</th>\n",
       "      <th>transaction_qty</th>\n",
       "      <th>store_id</th>\n",
       "      <th>store_location</th>\n",
       "      <th>product_id</th>\n",
       "      <th>unit_price</th>\n",
       "      <th>product_category</th>\n",
       "      <th>product_type</th>\n",
       "      <th>product_detail</th>\n",
       "    </tr>\n",
       "  </thead>\n",
       "  <tbody>\n",
       "    <tr>\n",
       "      <th>0</th>\n",
       "      <td>1</td>\n",
       "      <td>2023-01-01</td>\n",
       "      <td>07:06:11</td>\n",
       "      <td>2</td>\n",
       "      <td>5</td>\n",
       "      <td>Lower Manhattan</td>\n",
       "      <td>32</td>\n",
       "      <td>3.0</td>\n",
       "      <td>Coffee</td>\n",
       "      <td>Gourmet brewed coffee</td>\n",
       "      <td>Ethiopia Rg</td>\n",
       "    </tr>\n",
       "    <tr>\n",
       "      <th>1</th>\n",
       "      <td>2</td>\n",
       "      <td>2023-01-01</td>\n",
       "      <td>07:08:56</td>\n",
       "      <td>2</td>\n",
       "      <td>5</td>\n",
       "      <td>Lower Manhattan</td>\n",
       "      <td>57</td>\n",
       "      <td>3.1</td>\n",
       "      <td>Tea</td>\n",
       "      <td>Brewed Chai tea</td>\n",
       "      <td>Spicy Eye Opener Chai Lg</td>\n",
       "    </tr>\n",
       "    <tr>\n",
       "      <th>2</th>\n",
       "      <td>3</td>\n",
       "      <td>2023-01-01</td>\n",
       "      <td>07:14:04</td>\n",
       "      <td>2</td>\n",
       "      <td>5</td>\n",
       "      <td>Lower Manhattan</td>\n",
       "      <td>59</td>\n",
       "      <td>4.5</td>\n",
       "      <td>Drinking Chocolate</td>\n",
       "      <td>Hot chocolate</td>\n",
       "      <td>Dark chocolate Lg</td>\n",
       "    </tr>\n",
       "  </tbody>\n",
       "</table>\n",
       "</div>"
      ],
      "text/plain": [
       "   transaction_id transaction_date transaction_time  transaction_qty  \\\n",
       "0               1       2023-01-01         07:06:11                2   \n",
       "1               2       2023-01-01         07:08:56                2   \n",
       "2               3       2023-01-01         07:14:04                2   \n",
       "\n",
       "   store_id   store_location  product_id  unit_price    product_category  \\\n",
       "0         5  Lower Manhattan          32         3.0              Coffee   \n",
       "1         5  Lower Manhattan          57         3.1                 Tea   \n",
       "2         5  Lower Manhattan          59         4.5  Drinking Chocolate   \n",
       "\n",
       "            product_type            product_detail  \n",
       "0  Gourmet brewed coffee               Ethiopia Rg  \n",
       "1        Brewed Chai tea  Spicy Eye Opener Chai Lg  \n",
       "2          Hot chocolate         Dark chocolate Lg  "
      ]
     },
     "execution_count": 6,
     "metadata": {},
     "output_type": "execute_result"
    }
   ],
   "source": [
    "data.head(3)"
   ]
  },
  {
   "cell_type": "markdown",
   "id": "75fd086a-ff8b-463c-8137-3a5b94ae3157",
   "metadata": {
    "jp-MarkdownHeadingCollapsed": true
   },
   "source": [
    "# 3. Inspeção geral dos dados"
   ]
  },
  {
   "cell_type": "markdown",
   "id": "5f60d04e-b9a0-4934-914f-76f444837892",
   "metadata": {},
   "source": [
    "| **Variável**            | **Descrição**                                                                                   |\n",
    "|------------------------|-----------------------------------------------------------------------------------------------|\n",
    "| **transaction_id**     | ID sequencial único representando uma transação individual                                    |\n",
    "| **transaction_date**   | Data da transação (MM/DD/YY)                                                                  |\n",
    "| **transaction_time**   | Horário da transação (HH:MM:SS)                                                               |\n",
    "| **transaction_qty**    | Quantidade de itens vendidos                                                                  |\n",
    "| **store_id**           | ID único da cafeteria onde a transação ocorreu                                               |\n",
    "| **store_location**     | Localização da cafeteria onde a transação ocorreu                                            |\n",
    "| **product_id**         | ID único do produto vendido                                                                  |\n",
    "| **unit_price**         | Preço de varejo do produto vendido                                                           |\n",
    "| **product_category**   | Descrição da categoria do produto                                                            |\n",
    "| **product_type**       | Descrição do tipo de produto                                                                 |\n",
    "| **product_detail**     | Descrição do detalhe do produto                                                              |\n"
   ]
  },
  {
   "cell_type": "markdown",
   "id": "252e3857-bb86-462d-b1b4-1381314c17dc",
   "metadata": {
    "jp-MarkdownHeadingCollapsed": true
   },
   "source": [
    "# 4.Split dos dados"
   ]
  },
  {
   "cell_type": "markdown",
   "id": "430f5fda-4f85-4737-931f-bf1c18504c76",
   "metadata": {},
   "source": [
    "`Observação`: Como o projeto envolve séries temporais, é essencial que os conjuntos de treino e teste sejam divididos com base no tempo, preservando a ordem cronológica dos dados. Seleções aleatórias podem causar vazamento de informações, uma vez que dados futuros poderiam influenciar a previsão de eventos passados."
   ]
  },
  {
   "cell_type": "code",
   "execution_count": 7,
   "id": "c579fc3d-37c1-4236-8e56-f2f95a67af03",
   "metadata": {},
   "outputs": [
    {
     "data": {
      "text/plain": [
       "<PeriodArray>\n",
       "['2023-01', '2023-02', '2023-03', '2023-04', '2023-05', '2023-06']\n",
       "Length: 6, dtype: period[M]"
      ]
     },
     "execution_count": 7,
     "metadata": {},
     "output_type": "execute_result"
    }
   ],
   "source": [
    "# Exploração do ponto de corte (data)\n",
    "data['transaction_date'] = pd.to_datetime(data['transaction_date'])\n",
    "data['transaction_date'].dt.to_period('M').unique()"
   ]
  },
  {
   "cell_type": "markdown",
   "id": "1d91e68b-afa7-448b-a236-49288b969a72",
   "metadata": {},
   "source": [
    "Os dados disponíveis correspondem a 6 meses de vendas da cafeteria. O objetivo é usar esses dados para prever o desempenho do mês mais recente."
   ]
  },
  {
   "cell_type": "code",
   "execution_count": 16,
   "id": "f00fb9ae-dcc8-4fda-8661-906e3978368f",
   "metadata": {},
   "outputs": [],
   "source": [
    "# Ponto de corte\n",
    "train_end_date = '2023-04-30'"
   ]
  },
  {
   "cell_type": "code",
   "execution_count": 17,
   "id": "91969e71-8e5c-4201-a84a-9dd953eebeeb",
   "metadata": {},
   "outputs": [
    {
     "name": "stdout",
     "output_type": "stream",
     "text": [
      "Linhas do treino 80237\n",
      "Linhas do teste 68879\n"
     ]
    }
   ],
   "source": [
    "# Criando os conjuntos de treino e teste\n",
    "train = data[data['transaction_date'] <= train_end_date]\n",
    "test = data[data['transaction_date'] > train_end_date]\n",
    "\n",
    "print(f'Linhas do treino {train.shape[0]}')\n",
    "print(f'Linhas do teste {test.shape[0]}')"
   ]
  },
  {
   "cell_type": "markdown",
   "id": "14c36874-3abc-46a6-914e-2955f309066e",
   "metadata": {
    "jp-MarkdownHeadingCollapsed": true
   },
   "source": [
    "# 5. EDA"
   ]
  },
  {
   "cell_type": "code",
   "execution_count": 41,
   "id": "141d7f0e-2bc3-43a4-b72e-be4b9fa76be6",
   "metadata": {},
   "outputs": [
    {
     "data": {
      "text/html": [
       "<div>\n",
       "<style scoped>\n",
       "    .dataframe tbody tr th:only-of-type {\n",
       "        vertical-align: middle;\n",
       "    }\n",
       "\n",
       "    .dataframe tbody tr th {\n",
       "        vertical-align: top;\n",
       "    }\n",
       "\n",
       "    .dataframe thead th {\n",
       "        text-align: right;\n",
       "    }\n",
       "</style>\n",
       "<table border=\"1\" class=\"dataframe\">\n",
       "  <thead>\n",
       "    <tr style=\"text-align: right;\">\n",
       "      <th></th>\n",
       "      <th>transaction_id</th>\n",
       "      <th>transaction_date</th>\n",
       "      <th>transaction_time</th>\n",
       "      <th>transaction_qty</th>\n",
       "      <th>store_id</th>\n",
       "      <th>store_location</th>\n",
       "      <th>product_id</th>\n",
       "      <th>unit_price</th>\n",
       "      <th>product_category</th>\n",
       "      <th>product_type</th>\n",
       "      <th>product_detail</th>\n",
       "    </tr>\n",
       "  </thead>\n",
       "  <tbody>\n",
       "    <tr>\n",
       "      <th>0</th>\n",
       "      <td>1</td>\n",
       "      <td>2023-01-01</td>\n",
       "      <td>07:06:11</td>\n",
       "      <td>2</td>\n",
       "      <td>5</td>\n",
       "      <td>Lower Manhattan</td>\n",
       "      <td>32</td>\n",
       "      <td>3.00</td>\n",
       "      <td>Coffee</td>\n",
       "      <td>Gourmet brewed coffee</td>\n",
       "      <td>Ethiopia Rg</td>\n",
       "    </tr>\n",
       "    <tr>\n",
       "      <th>1</th>\n",
       "      <td>2</td>\n",
       "      <td>2023-01-01</td>\n",
       "      <td>07:08:56</td>\n",
       "      <td>2</td>\n",
       "      <td>5</td>\n",
       "      <td>Lower Manhattan</td>\n",
       "      <td>57</td>\n",
       "      <td>3.10</td>\n",
       "      <td>Tea</td>\n",
       "      <td>Brewed Chai tea</td>\n",
       "      <td>Spicy Eye Opener Chai Lg</td>\n",
       "    </tr>\n",
       "    <tr>\n",
       "      <th>2</th>\n",
       "      <td>3</td>\n",
       "      <td>2023-01-01</td>\n",
       "      <td>07:14:04</td>\n",
       "      <td>2</td>\n",
       "      <td>5</td>\n",
       "      <td>Lower Manhattan</td>\n",
       "      <td>59</td>\n",
       "      <td>4.50</td>\n",
       "      <td>Drinking Chocolate</td>\n",
       "      <td>Hot chocolate</td>\n",
       "      <td>Dark chocolate Lg</td>\n",
       "    </tr>\n",
       "    <tr>\n",
       "      <th>3</th>\n",
       "      <td>4</td>\n",
       "      <td>2023-01-01</td>\n",
       "      <td>07:20:24</td>\n",
       "      <td>1</td>\n",
       "      <td>5</td>\n",
       "      <td>Lower Manhattan</td>\n",
       "      <td>22</td>\n",
       "      <td>2.00</td>\n",
       "      <td>Coffee</td>\n",
       "      <td>Drip coffee</td>\n",
       "      <td>Our Old Time Diner Blend Sm</td>\n",
       "    </tr>\n",
       "    <tr>\n",
       "      <th>4</th>\n",
       "      <td>5</td>\n",
       "      <td>2023-01-01</td>\n",
       "      <td>07:22:41</td>\n",
       "      <td>2</td>\n",
       "      <td>5</td>\n",
       "      <td>Lower Manhattan</td>\n",
       "      <td>57</td>\n",
       "      <td>3.10</td>\n",
       "      <td>Tea</td>\n",
       "      <td>Brewed Chai tea</td>\n",
       "      <td>Spicy Eye Opener Chai Lg</td>\n",
       "    </tr>\n",
       "    <tr>\n",
       "      <th>...</th>\n",
       "      <td>...</td>\n",
       "      <td>...</td>\n",
       "      <td>...</td>\n",
       "      <td>...</td>\n",
       "      <td>...</td>\n",
       "      <td>...</td>\n",
       "      <td>...</td>\n",
       "      <td>...</td>\n",
       "      <td>...</td>\n",
       "      <td>...</td>\n",
       "      <td>...</td>\n",
       "    </tr>\n",
       "    <tr>\n",
       "      <th>80232</th>\n",
       "      <td>80406</td>\n",
       "      <td>2023-04-30</td>\n",
       "      <td>19:58:35</td>\n",
       "      <td>1</td>\n",
       "      <td>3</td>\n",
       "      <td>Astoria</td>\n",
       "      <td>37</td>\n",
       "      <td>3.00</td>\n",
       "      <td>Coffee</td>\n",
       "      <td>Barista Espresso</td>\n",
       "      <td>Espresso shot</td>\n",
       "    </tr>\n",
       "    <tr>\n",
       "      <th>80233</th>\n",
       "      <td>80407</td>\n",
       "      <td>2023-04-30</td>\n",
       "      <td>20:32:15</td>\n",
       "      <td>2</td>\n",
       "      <td>8</td>\n",
       "      <td>Hell's Kitchen</td>\n",
       "      <td>33</td>\n",
       "      <td>3.50</td>\n",
       "      <td>Coffee</td>\n",
       "      <td>Gourmet brewed coffee</td>\n",
       "      <td>Ethiopia Lg</td>\n",
       "    </tr>\n",
       "    <tr>\n",
       "      <th>80234</th>\n",
       "      <td>80408</td>\n",
       "      <td>2023-04-30</td>\n",
       "      <td>20:52:03</td>\n",
       "      <td>1</td>\n",
       "      <td>8</td>\n",
       "      <td>Hell's Kitchen</td>\n",
       "      <td>59</td>\n",
       "      <td>4.50</td>\n",
       "      <td>Drinking Chocolate</td>\n",
       "      <td>Hot chocolate</td>\n",
       "      <td>Dark chocolate Lg</td>\n",
       "    </tr>\n",
       "    <tr>\n",
       "      <th>80235</th>\n",
       "      <td>80409</td>\n",
       "      <td>2023-04-30</td>\n",
       "      <td>20:57:11</td>\n",
       "      <td>2</td>\n",
       "      <td>8</td>\n",
       "      <td>Hell's Kitchen</td>\n",
       "      <td>60</td>\n",
       "      <td>3.75</td>\n",
       "      <td>Drinking Chocolate</td>\n",
       "      <td>Hot chocolate</td>\n",
       "      <td>Sustainably Grown Organic Rg</td>\n",
       "    </tr>\n",
       "    <tr>\n",
       "      <th>80236</th>\n",
       "      <td>80410</td>\n",
       "      <td>2023-04-30</td>\n",
       "      <td>20:57:11</td>\n",
       "      <td>1</td>\n",
       "      <td>8</td>\n",
       "      <td>Hell's Kitchen</td>\n",
       "      <td>78</td>\n",
       "      <td>4.50</td>\n",
       "      <td>Bakery</td>\n",
       "      <td>Scone</td>\n",
       "      <td>Scottish Cream Scone</td>\n",
       "    </tr>\n",
       "  </tbody>\n",
       "</table>\n",
       "<p>80237 rows × 11 columns</p>\n",
       "</div>"
      ],
      "text/plain": [
       "       transaction_id transaction_date transaction_time  transaction_qty  \\\n",
       "0                   1       2023-01-01         07:06:11                2   \n",
       "1                   2       2023-01-01         07:08:56                2   \n",
       "2                   3       2023-01-01         07:14:04                2   \n",
       "3                   4       2023-01-01         07:20:24                1   \n",
       "4                   5       2023-01-01         07:22:41                2   \n",
       "...               ...              ...              ...              ...   \n",
       "80232           80406       2023-04-30         19:58:35                1   \n",
       "80233           80407       2023-04-30         20:32:15                2   \n",
       "80234           80408       2023-04-30         20:52:03                1   \n",
       "80235           80409       2023-04-30         20:57:11                2   \n",
       "80236           80410       2023-04-30         20:57:11                1   \n",
       "\n",
       "       store_id   store_location  product_id  unit_price    product_category  \\\n",
       "0             5  Lower Manhattan          32        3.00              Coffee   \n",
       "1             5  Lower Manhattan          57        3.10                 Tea   \n",
       "2             5  Lower Manhattan          59        4.50  Drinking Chocolate   \n",
       "3             5  Lower Manhattan          22        2.00              Coffee   \n",
       "4             5  Lower Manhattan          57        3.10                 Tea   \n",
       "...         ...              ...         ...         ...                 ...   \n",
       "80232         3          Astoria          37        3.00              Coffee   \n",
       "80233         8   Hell's Kitchen          33        3.50              Coffee   \n",
       "80234         8   Hell's Kitchen          59        4.50  Drinking Chocolate   \n",
       "80235         8   Hell's Kitchen          60        3.75  Drinking Chocolate   \n",
       "80236         8   Hell's Kitchen          78        4.50              Bakery   \n",
       "\n",
       "                product_type                product_detail  \n",
       "0      Gourmet brewed coffee                   Ethiopia Rg  \n",
       "1            Brewed Chai tea      Spicy Eye Opener Chai Lg  \n",
       "2              Hot chocolate             Dark chocolate Lg  \n",
       "3                Drip coffee   Our Old Time Diner Blend Sm  \n",
       "4            Brewed Chai tea      Spicy Eye Opener Chai Lg  \n",
       "...                      ...                           ...  \n",
       "80232       Barista Espresso                 Espresso shot  \n",
       "80233  Gourmet brewed coffee                   Ethiopia Lg  \n",
       "80234          Hot chocolate             Dark chocolate Lg  \n",
       "80235          Hot chocolate  Sustainably Grown Organic Rg  \n",
       "80236                  Scone         Scottish Cream Scone   \n",
       "\n",
       "[80237 rows x 11 columns]"
      ]
     },
     "execution_count": 41,
     "metadata": {},
     "output_type": "execute_result"
    }
   ],
   "source": [
    "train"
   ]
  },
  {
   "cell_type": "markdown",
   "id": "ac1edb27-18d4-48fe-8ea8-125fad49b431",
   "metadata": {
    "jp-MarkdownHeadingCollapsed": true
   },
   "source": [
    "# 6. Split temporal"
   ]
  },
  {
   "cell_type": "code",
   "execution_count": 43,
   "id": "a22c0e57-8844-47c9-bd57-48e9f6830cee",
   "metadata": {},
   "outputs": [],
   "source": [
    "df = train.copy()"
   ]
  },
  {
   "cell_type": "code",
   "execution_count": 24,
   "id": "4b08c482-6515-48f3-9e02-d73a149b8e8a",
   "metadata": {},
   "outputs": [],
   "source": [
    "df['ref_date'] = df['transaction_date'].apply(lambda x: str(x)[:7])"
   ]
  },
  {
   "cell_type": "code",
   "execution_count": 34,
   "id": "7147eb90-2a58-4aa8-b463-7fcc63ea2418",
   "metadata": {},
   "outputs": [],
   "source": [
    "df_grouped = df.groupby('transaction_date').agg({'unit_price':'sum', 'transaction_id':'count'})"
   ]
  },
  {
   "cell_type": "code",
   "execution_count": 44,
   "id": "2ca2a730-1aa4-4c94-b161-505f078be323",
   "metadata": {},
   "outputs": [
    {
     "data": {
      "text/html": [
       "<div>\n",
       "<style scoped>\n",
       "    .dataframe tbody tr th:only-of-type {\n",
       "        vertical-align: middle;\n",
       "    }\n",
       "\n",
       "    .dataframe tbody tr th {\n",
       "        vertical-align: top;\n",
       "    }\n",
       "\n",
       "    .dataframe thead th {\n",
       "        text-align: right;\n",
       "    }\n",
       "</style>\n",
       "<table border=\"1\" class=\"dataframe\">\n",
       "  <thead>\n",
       "    <tr style=\"text-align: right;\">\n",
       "      <th></th>\n",
       "      <th>unit_price</th>\n",
       "      <th>transaction_id</th>\n",
       "    </tr>\n",
       "    <tr>\n",
       "      <th>transaction_date</th>\n",
       "      <th></th>\n",
       "      <th></th>\n",
       "    </tr>\n",
       "  </thead>\n",
       "  <tbody>\n",
       "    <tr>\n",
       "      <th>2023-01-01</th>\n",
       "      <td>1731.80</td>\n",
       "      <td>550</td>\n",
       "    </tr>\n",
       "    <tr>\n",
       "      <th>2023-01-02</th>\n",
       "      <td>1743.95</td>\n",
       "      <td>566</td>\n",
       "    </tr>\n",
       "    <tr>\n",
       "      <th>2023-01-03</th>\n",
       "      <td>1826.60</td>\n",
       "      <td>582</td>\n",
       "    </tr>\n",
       "    <tr>\n",
       "      <th>2023-01-04</th>\n",
       "      <td>1533.40</td>\n",
       "      <td>497</td>\n",
       "    </tr>\n",
       "    <tr>\n",
       "      <th>2023-01-05</th>\n",
       "      <td>1715.35</td>\n",
       "      <td>547</td>\n",
       "    </tr>\n",
       "    <tr>\n",
       "      <th>...</th>\n",
       "      <td>...</td>\n",
       "      <td>...</td>\n",
       "    </tr>\n",
       "    <tr>\n",
       "      <th>2023-04-26</th>\n",
       "      <td>3146.10</td>\n",
       "      <td>915</td>\n",
       "    </tr>\n",
       "    <tr>\n",
       "      <th>2023-04-27</th>\n",
       "      <td>2931.15</td>\n",
       "      <td>954</td>\n",
       "    </tr>\n",
       "    <tr>\n",
       "      <th>2023-04-28</th>\n",
       "      <td>2382.45</td>\n",
       "      <td>769</td>\n",
       "    </tr>\n",
       "    <tr>\n",
       "      <th>2023-04-29</th>\n",
       "      <td>2095.05</td>\n",
       "      <td>674</td>\n",
       "    </tr>\n",
       "    <tr>\n",
       "      <th>2023-04-30</th>\n",
       "      <td>2598.03</td>\n",
       "      <td>785</td>\n",
       "    </tr>\n",
       "  </tbody>\n",
       "</table>\n",
       "<p>120 rows × 2 columns</p>\n",
       "</div>"
      ],
      "text/plain": [
       "                  unit_price  transaction_id\n",
       "transaction_date                            \n",
       "2023-01-01           1731.80             550\n",
       "2023-01-02           1743.95             566\n",
       "2023-01-03           1826.60             582\n",
       "2023-01-04           1533.40             497\n",
       "2023-01-05           1715.35             547\n",
       "...                      ...             ...\n",
       "2023-04-26           3146.10             915\n",
       "2023-04-27           2931.15             954\n",
       "2023-04-28           2382.45             769\n",
       "2023-04-29           2095.05             674\n",
       "2023-04-30           2598.03             785\n",
       "\n",
       "[120 rows x 2 columns]"
      ]
     },
     "execution_count": 44,
     "metadata": {},
     "output_type": "execute_result"
    }
   ],
   "source": [
    "# Agrupado por dia\n",
    "df_grouped"
   ]
  },
  {
   "cell_type": "code",
   "execution_count": 36,
   "id": "c1024f20-329b-497e-9317-d3cf22e6db49",
   "metadata": {},
   "outputs": [
    {
     "data": {
      "text/plain": [
       "<Axes: xlabel='transaction_date'>"
      ]
     },
     "execution_count": 36,
     "metadata": {},
     "output_type": "execute_result"
    },
    {
     "data": {
      "image/png": "[encoded data removed]",
      "text/plain": [
       "<Figure size 640x480 with 1 Axes>"
      ]
     },
     "metadata": {},
     "output_type": "display_data"
    }
   ],
   "source": [
    "df_grouped['unit_price'].plot()"
   ]
  },
  {
   "cell_type": "code",
   "execution_count": 38,
   "id": "e3bb3ddd-25ab-43d4-a125-065b0ee81c5e",
   "metadata": {},
   "outputs": [],
   "source": [
    "# Separando features e target dos dados de treino e de teste\n",
    "\n",
    "# X_train = train.drop('unit_price',axis=1)\n",
    "# y_train = train['unit_price']\n",
    "\n",
    "# X_test = test.drop('unit_price',axis=1)\n",
    "# y_test = test['unit_price']"
   ]
  },
  {
   "cell_type": "markdown",
   "id": "97cb5cf5-0347-49d3-9182-19b2207f5f13",
   "metadata": {},
   "source": [
    "# 7. Feature engineering"
   ]
  }
 ],
 "metadata": {
  "kernelspec": {
   "display_name": "Python 3 (ipykernel)",
   "language": "python",
   "name": "python3"
  },
  "language_info": {
   "codemirror_mode": {
    "name": "ipython",
    "version": 3
   },
   "file_extension": ".py",
   "mimetype": "text/x-python",
   "name": "python",
   "nbconvert_exporter": "python",
   "pygments_lexer": "ipython3",
   "version": "3.12.3"
  }
 },
 "nbformat": 4,
 "nbformat_minor": 5
}
